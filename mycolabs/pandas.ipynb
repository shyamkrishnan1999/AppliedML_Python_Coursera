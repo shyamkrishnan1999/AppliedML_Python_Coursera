{
  "nbformat": 4,
  "nbformat_minor": 0,
  "metadata": {
    "colab": {
      "name": "pandas.ipynb",
      "provenance": [],
      "collapsed_sections": [],
      "authorship_tag": "ABX9TyOeUmDSxXwJdosaWRds4gQD",
      "include_colab_link": true
    },
    "kernelspec": {
      "name": "python3",
      "display_name": "Python 3"
    }
  },
  "cells": [
    {
      "cell_type": "markdown",
      "metadata": {
        "id": "view-in-github",
        "colab_type": "text"
      },
      "source": [
        "<a href=\"https://colab.research.google.com/github/shyamkrishnan1999/AppliedML_Python_Coursera/blob/master/mycolabs/pandas.ipynb\" target=\"_parent\"><img src=\"https://colab.research.google.com/assets/colab-badge.svg\" alt=\"Open In Colab\"/></a>"
      ]
    },
    {
      "cell_type": "code",
      "metadata": {
        "id": "Tz484DMN9PG0",
        "colab_type": "code",
        "colab": {
          "base_uri": "https://localhost:8080/",
          "height": 85
        },
        "outputId": "6bd581a6-badc-4618-b1c1-2af2a3b978bf"
      },
      "source": [
        "#Creating a pandas Series using numpy array\n",
        "\n",
        "import numpy as np\n",
        "import pandas as pd\n",
        "\n",
        "data=np.array([\"Apple\",\"Orange\",\"Mango\"])\n",
        "series=pd.Series(data,index=[1,2,3])\n",
        "print(series)"
      ],
      "execution_count": null,
      "outputs": [
        {
          "output_type": "stream",
          "text": [
            "1     Apple\n",
            "2    Orange\n",
            "3     Mango\n",
            "dtype: object\n"
          ],
          "name": "stdout"
        }
      ]
    },
    {
      "cell_type": "code",
      "metadata": {
        "id": "AjWe9x1xAfLB",
        "colab_type": "code",
        "colab": {
          "base_uri": "https://localhost:8080/",
          "height": 85
        },
        "outputId": "9079b163-6ef6-4935-d13b-eac9525d2448"
      },
      "source": [
        "#Accessing series objects\n",
        "\n",
        "print(series[1])\n",
        "print(series[-2:])"
      ],
      "execution_count": null,
      "outputs": [
        {
          "output_type": "stream",
          "text": [
            "Apple\n",
            "2    Orange\n",
            "3     Mango\n",
            "dtype: object\n"
          ],
          "name": "stdout"
        }
      ]
    },
    {
      "cell_type": "code",
      "metadata": {
        "id": "dQxg2_Rx_imw",
        "colab_type": "code",
        "colab": {
          "base_uri": "https://localhost:8080/",
          "height": 85
        },
        "outputId": "3b4b5903-a22d-4377-99cd-8abd4b03fdbf"
      },
      "source": [
        "#Creating a pandas Series using dictionary\n",
        "\n",
        "dict={'a':\"Ajay\",'b':\"Ramu\",'c':\"Jay\"}\n",
        "series2=pd.Series(dict)\n",
        "print(series2)"
      ],
      "execution_count": null,
      "outputs": [
        {
          "output_type": "stream",
          "text": [
            "a    Ajay\n",
            "b    Ramu\n",
            "c     Jay\n",
            "dtype: object\n"
          ],
          "name": "stdout"
        }
      ]
    },
    {
      "cell_type": "code",
      "metadata": {
        "id": "V1YObaWsAGn2",
        "colab_type": "code",
        "colab": {
          "base_uri": "https://localhost:8080/",
          "height": 102
        },
        "outputId": "b7f21626-b328-41ab-8df0-1b3ea758c81a"
      },
      "source": [
        "#creating a pandas series in a different order\n",
        "\n",
        "series3=pd.Series(dict,index=['b','c','d','a'])\n",
        "print(series3)"
      ],
      "execution_count": null,
      "outputs": [
        {
          "output_type": "stream",
          "text": [
            "b    Ramu\n",
            "c     Jay\n",
            "d     NaN\n",
            "a    Ajay\n",
            "dtype: object\n"
          ],
          "name": "stdout"
        }
      ]
    },
    {
      "cell_type": "code",
      "metadata": {
        "id": "2XxaDoWlA2Wp",
        "colab_type": "code",
        "colab": {
          "base_uri": "https://localhost:8080/",
          "height": 119
        },
        "outputId": "2d7d1013-0ddf-446e-f7ad-b3a5c8df37b9"
      },
      "source": [
        "#creating a pandas Series using a scalar\n",
        "\n",
        "series4=pd.Series(125,index=[1,2,3,4,5])\n",
        "print(series4)"
      ],
      "execution_count": null,
      "outputs": [
        {
          "output_type": "stream",
          "text": [
            "1    125\n",
            "2    125\n",
            "3    125\n",
            "4    125\n",
            "5    125\n",
            "dtype: int64\n"
          ],
          "name": "stdout"
        }
      ]
    },
    {
      "cell_type": "code",
      "metadata": {
        "id": "XgUzyo9wBLQi",
        "colab_type": "code",
        "colab": {
          "base_uri": "https://localhost:8080/",
          "height": 68
        },
        "outputId": "b2820fed-4d34-4e9e-8885-40b85ce11474"
      },
      "source": [
        "#creating an empty dataframe\n",
        "\n",
        "import pandas as pd\n",
        "\n",
        "df=pd.DataFrame()\n",
        "print(df)"
      ],
      "execution_count": 1,
      "outputs": [
        {
          "output_type": "stream",
          "text": [
            "Empty DataFrame\n",
            "Columns: []\n",
            "Index: []\n"
          ],
          "name": "stdout"
        }
      ]
    },
    {
      "cell_type": "code",
      "metadata": {
        "id": "ZTgUvoRWCiMf",
        "colab_type": "code",
        "colab": {
          "base_uri": "https://localhost:8080/",
          "height": 85
        },
        "outputId": "e41780ed-774d-498d-90eb-2e2f7d74f6d9"
      },
      "source": [
        "#creating a dataframe using lists\n",
        "\n",
        "df=pd.DataFrame(['Raj','Ram','Shyam'],columns=['Names'])\n",
        "print(df)"
      ],
      "execution_count": 3,
      "outputs": [
        {
          "output_type": "stream",
          "text": [
            "   Names\n",
            "0    Raj\n",
            "1    Ram\n",
            "2  Shyam\n"
          ],
          "name": "stdout"
        }
      ]
    },
    {
      "cell_type": "code",
      "metadata": {
        "id": "GjO3aiTxDBXt",
        "colab_type": "code",
        "colab": {
          "base_uri": "https://localhost:8080/",
          "height": 85
        },
        "outputId": "db1d01a6-3f1f-4797-b1f7-d981ebe58397"
      },
      "source": [
        "#creating a dataframe using lists of lists\n",
        "\n",
        "data=[['Alex',25],['Rony',23],['Saurav',16]]\n",
        "df=pd.DataFrame(data,columns=['Name','Marks'])\n",
        "print(df)"
      ],
      "execution_count": 4,
      "outputs": [
        {
          "output_type": "stream",
          "text": [
            "     Name  Marks\n",
            "0    Alex     25\n",
            "1    Rony     23\n",
            "2  Saurav     16\n"
          ],
          "name": "stdout"
        }
      ]
    },
    {
      "cell_type": "code",
      "metadata": {
        "id": "WEjngN2sDjUi",
        "colab_type": "code",
        "colab": {
          "base_uri": "https://localhost:8080/",
          "height": 102
        },
        "outputId": "bd4ef350-cd7a-472b-ee18-a60ef55ecf21"
      },
      "source": [
        "#creating a dataframe using dictionary-ndarray\n",
        "\n",
        "data={'Name':['Ankur','Advaith','Aditya','Aromal'],'Marks':[72,76,83,79]}\n",
        "df=pd.DataFrame(data)\n",
        "print(df)"
      ],
      "execution_count": 5,
      "outputs": [
        {
          "output_type": "stream",
          "text": [
            "      Name  Marks\n",
            "0    Ankur     72\n",
            "1  Advaith     76\n",
            "2   Aditya     83\n",
            "3   Aromal     79\n"
          ],
          "name": "stdout"
        }
      ]
    },
    {
      "cell_type": "code",
      "metadata": {
        "id": "LG7N6aYkEGdz",
        "colab_type": "code",
        "colab": {
          "base_uri": "https://localhost:8080/",
          "height": 85
        },
        "outputId": "4553057d-7ba1-47c7-f6eb-502519cf6ab4"
      },
      "source": [
        "#creating a dataframe using list of dictionaries\n",
        "\n",
        "data=[{'a':1,'b':2},{'a':4,'c':6},{'a':2,'b':1,'c':7}]\n",
        "df=pd.DataFrame(data)\n",
        "print(df)"
      ],
      "execution_count": 6,
      "outputs": [
        {
          "output_type": "stream",
          "text": [
            "   a    b    c\n",
            "0  1  2.0  NaN\n",
            "1  4  NaN  6.0\n",
            "2  2  1.0  7.0\n"
          ],
          "name": "stdout"
        }
      ]
    },
    {
      "cell_type": "code",
      "metadata": {
        "id": "sFa3NmrqEl2m",
        "colab_type": "code",
        "colab": {
          "base_uri": "https://localhost:8080/",
          "height": 102
        },
        "outputId": "cf777ba4-2cb4-4093-b2a8-9fe8c15b2a68"
      },
      "source": [
        "#creating a dataframe using dictionary of series\n",
        "\n",
        "series1=pd.Series([1,2,3,4])\n",
        "series2=pd.Series([5,6,7,8])\n",
        "data={'First':series1,'Second':series2}\n",
        "df=pd.DataFrame(data)\n",
        "print(df)"
      ],
      "execution_count": 9,
      "outputs": [
        {
          "output_type": "stream",
          "text": [
            "   First  Second\n",
            "0      1       5\n",
            "1      2       6\n",
            "2      3       7\n",
            "3      4       8\n"
          ],
          "name": "stdout"
        }
      ]
    },
    {
      "cell_type": "code",
      "metadata": {
        "id": "f9jzeUBsUlHZ",
        "colab_type": "code",
        "colab": {
          "base_uri": "https://localhost:8080/",
          "height": 235
        },
        "outputId": "934f84c7-4a0b-4637-c25f-75ce94b5e066"
      },
      "source": [
        "#working with pandas\n",
        "\n",
        "df=pd.read_csv(\"f500.csv\",index_col=0,usecols=['company','rank','revenues','country'])\n",
        "df.head()"
      ],
      "execution_count": 23,
      "outputs": [
        {
          "output_type": "execute_result",
          "data": {
            "text/html": [
              "<div>\n",
              "<style scoped>\n",
              "    .dataframe tbody tr th:only-of-type {\n",
              "        vertical-align: middle;\n",
              "    }\n",
              "\n",
              "    .dataframe tbody tr th {\n",
              "        vertical-align: top;\n",
              "    }\n",
              "\n",
              "    .dataframe thead th {\n",
              "        text-align: right;\n",
              "    }\n",
              "</style>\n",
              "<table border=\"1\" class=\"dataframe\">\n",
              "  <thead>\n",
              "    <tr style=\"text-align: right;\">\n",
              "      <th></th>\n",
              "      <th>rank</th>\n",
              "      <th>revenues</th>\n",
              "      <th>country</th>\n",
              "    </tr>\n",
              "    <tr>\n",
              "      <th>company</th>\n",
              "      <th></th>\n",
              "      <th></th>\n",
              "      <th></th>\n",
              "    </tr>\n",
              "  </thead>\n",
              "  <tbody>\n",
              "    <tr>\n",
              "      <th>Walmart</th>\n",
              "      <td>1</td>\n",
              "      <td>485873</td>\n",
              "      <td>USA</td>\n",
              "    </tr>\n",
              "    <tr>\n",
              "      <th>State Grid</th>\n",
              "      <td>2</td>\n",
              "      <td>315199</td>\n",
              "      <td>China</td>\n",
              "    </tr>\n",
              "    <tr>\n",
              "      <th>Sinopec Group</th>\n",
              "      <td>3</td>\n",
              "      <td>267518</td>\n",
              "      <td>China</td>\n",
              "    </tr>\n",
              "    <tr>\n",
              "      <th>China National Petroleum</th>\n",
              "      <td>4</td>\n",
              "      <td>262573</td>\n",
              "      <td>China</td>\n",
              "    </tr>\n",
              "    <tr>\n",
              "      <th>Toyota Motor</th>\n",
              "      <td>5</td>\n",
              "      <td>254694</td>\n",
              "      <td>Japan</td>\n",
              "    </tr>\n",
              "  </tbody>\n",
              "</table>\n",
              "</div>"
            ],
            "text/plain": [
              "                          rank  revenues country\n",
              "company                                         \n",
              "Walmart                      1    485873     USA\n",
              "State Grid                   2    315199   China\n",
              "Sinopec Group                3    267518   China\n",
              "China National Petroleum     4    262573   China\n",
              "Toyota Motor                 5    254694   Japan"
            ]
          },
          "metadata": {
            "tags": []
          },
          "execution_count": 23
        }
      ]
    },
    {
      "cell_type": "code",
      "metadata": {
        "id": "ZwIzfRiEVcSi",
        "colab_type": "code",
        "colab": {
          "base_uri": "https://localhost:8080/",
          "height": 34
        },
        "outputId": "684edd9b-64ec-4410-e437-33f975bbc32b"
      },
      "source": [
        "df.revenues.mean()"
      ],
      "execution_count": 21,
      "outputs": [
        {
          "output_type": "execute_result",
          "data": {
            "text/plain": [
              "55416.358"
            ]
          },
          "metadata": {
            "tags": []
          },
          "execution_count": 21
        }
      ]
    },
    {
      "cell_type": "code",
      "metadata": {
        "id": "H_FrhPXuYqyi",
        "colab_type": "code",
        "colab": {
          "base_uri": "https://localhost:8080/",
          "height": 350
        },
        "outputId": "60738108-02f3-48b0-8434-a76b6ff00708"
      },
      "source": [
        "df.groupby(\"country\").revenues.mean().plot(kind=\"bar\")"
      ],
      "execution_count": 30,
      "outputs": [
        {
          "output_type": "execute_result",
          "data": {
            "text/plain": [
              "<matplotlib.axes._subplots.AxesSubplot at 0x7f126589ea58>"
            ]
          },
          "metadata": {
            "tags": []
          },
          "execution_count": 30
        },
        {
          "output_type": "display_data",
          "data": {
            "image/png": "[encoded data removed]",
            "text/plain": [
              "<Figure size 432x288 with 1 Axes>"
            ]
          },
          "metadata": {
            "tags": [],
            "needs_background": "light"
          }
        }
      ]
    }
  ]
}